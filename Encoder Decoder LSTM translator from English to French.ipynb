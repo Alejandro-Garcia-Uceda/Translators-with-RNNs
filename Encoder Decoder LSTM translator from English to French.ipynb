{
 "cells": [
  {
   "cell_type": "markdown",
   "metadata": {},
   "source": [
    "# ENCODER-DECODER RECURRENT NEURAL NETWORK"
   ]
  },
  {
   "cell_type": "markdown",
   "metadata": {},
   "source": [
    "In this project I am going to design and develop Encoder-Decoder RNN  with Pytorch and CUDA. The goal is to create an English to French translator.\n",
    "\n",
    "To carry out this project I implemented the knowledge I gained in the Udacity Natural Language Processing Nanodegree."
   ]
  },
  {
   "cell_type": "code",
   "execution_count": 2,
   "metadata": {},
   "outputs": [],
   "source": [
    "import os\n",
    "import random\n",
    "import torch\n",
    "from torch.utils.data import DataLoader\n",
    "from torch import nn\n",
    "import torch.nn.functional as F\n",
    "from tqdm.auto import tqdm\n",
    "import matplotlib.pyplot as plt\n",
    "from sklearn.metrics import accuracy_score"
   ]
  },
  {
   "cell_type": "markdown",
   "metadata": {},
   "source": [
    "## 1. DATA\n",
    "This type of project is computationally expensive, for this reason I will use a Dataset created by Udacity that uses a short vocabulary. This way I will test the architecture with a much lower computational and time cost.\n",
    "\n",
    "### 1.1 Load Data\n",
    "The data is located in `data/small_vocab_en` and `data/small_vocab_fr`. The `small_vocab_en` file contains English sentences with their French translations in the `small_vocab_fr` file. Load the English and French data from these files from running the cell below."
   ]
  },
  {
   "cell_type": "code",
   "execution_count": 3,
   "metadata": {},
   "outputs": [],
   "source": [
    "def load_data(path):\n",
    "    input_file = os.path.join(path)\n",
    "    with open(input_file, \"r\", encoding='utf-8') as f:\n",
    "        data = f.read()\n",
    "\n",
    "    return data.split('\\n')"
   ]
  },
  {
   "cell_type": "code",
   "execution_count": 4,
   "metadata": {},
   "outputs": [
    {
     "name": "stdout",
     "output_type": "stream",
     "text": [
      "DATA SET LOADED\n"
     ]
    }
   ],
   "source": [
    "# Load English data\n",
    "english_sentences = load_data('data/small_vocab_en')\n",
    "# Load French data\n",
    "french_sentences = load_data('data/small_vocab_fr')\n",
    "\n",
    "print('DATA SET LOADED')"
   ]
  },
  {
   "cell_type": "markdown",
   "metadata": {},
   "source": [
    "Show some examples:"
   ]
  },
  {
   "cell_type": "code",
   "execution_count": 5,
   "metadata": {},
   "outputs": [
    {
     "name": "stdout",
     "output_type": "stream",
     "text": [
      "Phrase in English:  china is usually pleasant during november , and it is never quiet in october .\n",
      "Phrase in French:  chine est généralement agréable en novembre , et il est jamais tranquille en octobre .\n"
     ]
    }
   ],
   "source": [
    "print('Phrase in English: ', english_sentences[20])\n",
    "print('Phrase in French: ', french_sentences[20])"
   ]
  },
  {
   "cell_type": "markdown",
   "metadata": {},
   "source": [
    "### 1.2 Create and apply a word counter\n",
    "The following function creates a dictionary with the word count, and return the number of words that have the longest phrase."
   ]
  },
  {
   "cell_type": "code",
   "execution_count": 6,
   "metadata": {},
   "outputs": [],
   "source": [
    "def world_count(texts):\n",
    "    w_count = {}\n",
    "    max_w = 0\n",
    "    \n",
    "    for i in texts:\n",
    "        ws = i.split()\n",
    "        \n",
    "        for w in  ws:\n",
    "            if w not in w_count:\n",
    "                w_count[w] = 1\n",
    "            else:\n",
    "                w_count[w] += 1\n",
    "                \n",
    "        if len(ws)>max_w:\n",
    "            max_w = len(ws)\n",
    "            \n",
    "    return w_count, max_w"
   ]
  },
  {
   "cell_type": "code",
   "execution_count": 7,
   "metadata": {},
   "outputs": [
    {
     "name": "stdout",
     "output_type": "stream",
     "text": [
      "Max number of words in a english phrase:  17\n",
      "English vocablary size:  227\n",
      "Max number of words in a french phrase:  23\n",
      "French vocablary size:  355\n"
     ]
    }
   ],
   "source": [
    "en_w_count, en_max_w = world_count(english_sentences)\n",
    "print('Max number of words in a english phrase: ', en_max_w)\n",
    "print('English vocablary size: ', len(en_w_count))\n",
    "\n",
    "fr_w_count, fr_max_w = world_count(french_sentences)\n",
    "print('Max number of words in a french phrase: ', fr_max_w)\n",
    "print('French vocablary size: ', len(fr_w_count))"
   ]
  },
  {
   "cell_type": "markdown",
   "metadata": {},
   "source": [
    "Looking at the word counter we can see that the dataset we are using was carefully created, it does not have a large number of words and all of them are repeated an acceptable number of times."
   ]
  },
  {
   "cell_type": "code",
   "execution_count": 8,
   "metadata": {},
   "outputs": [
    {
     "name": "stdout",
     "output_type": "stream",
     "text": [
      "======================  English word counter  ==================== \n",
      " \n",
      " {'new': 12197, 'jersey': 11225, 'is': 205858, 'sometimes': 37746, 'quiet': 8693, 'during': 74933, 'autumn': 9004, ',': 140897, 'and': 59850, 'it': 75137, 'snowy': 8898, 'in': 75525, 'april': 8954, '.': 129039, 'the': 67628, 'united': 11270, 'states': 11270, 'usually': 37507, 'chilly': 8770, 'july': 8956, 'freezing': 8928, 'november': 8951, 'california': 11250, 'march': 9023, 'hot': 8639, 'june': 9133, 'mild': 8743, 'cold': 8878, 'september': 8958, 'your': 9734, 'least': 27564, 'liked': 13546, 'fruit': 27105, 'grape': 4703, 'but': 63987, 'my': 9700, 'apple': 4652, 'his': 9700, 'favorite': 27371, 'orange': 4651, 'paris': 11334, 'relaxing': 8696, 'december': 8945, 'busy': 8791, 'spring': 9102, 'never': 37500, 'our': 8932, 'lemon': 4652, 'january': 9090, 'warm': 8890, 'lime': 4680, 'her': 9700, 'banana': 4652, 'he': 10786, 'saw': 648, 'a': 1944, 'old': 972, 'yellow': 972, 'truck': 1944, 'india': 11277, 'rainy': 8761, 'that': 2712, 'cat': 192, 'was': 1867, 'most': 14934, 'loved': 13666, 'animal': 2304, 'dislikes': 7314, 'grapefruit': 10118, 'limes': 5554, 'lemons': 5533, 'february': 8942, 'china': 10953, 'pleasant': 8916, 'october': 8910, 'wonderful': 8808, 'nice': 8984, 'summer': 8948, 'france': 11170, 'may': 8995, 'grapes': 5525, 'mangoes.': 295, 'their': 8932, 'mango': 4652, 'pear': 4652, 'august': 8789, 'beautiful': 8915, 'apples': 5452, 'peaches': 5451, 'feared': 768, 'shark': 192, 'wet': 8726, 'dry': 8794, 'we': 2532, 'like': 4588, 'oranges': 5452, 'mangoes': 5549, 'they': 3222, 'pears': 5451, 'she': 10786, 'little': 1016, 'red': 972, 'winter': 9038, 'disliked': 648, 'rusty': 972, 'car': 1944, 'strawberries': 5452, 'i': 2664, 'strawberry': 4715, 'bananas.': 392, 'going': 666, 'to': 5166, 'next': 1666, 'plan': 714, 'visit': 1224, 'elephants': 64, 'were': 384, 'animals': 768, 'favorite.': 961, 'are': 870, 'likes': 7314, 'bananas': 5452, 'dislike': 4444, 'fall': 9134, 'driving': 1296, 'oranges.': 392, 'liked.': 500, 'peach': 4652, 'loved.': 500, 'drives': 648, 'blue': 972, 'you': 2414, 'bird': 192, 'grapefruit.': 574, 'horses': 64, 'mouse': 192, 'went': 378, 'last': 781, 'peaches.': 393, 'horse': 192, 'automobile': 1944, 'dogs': 64, 'white': 972, 'elephant': 192, 'lemons.': 311, 'mango.': 196, 'apples.': 392, 'banana.': 196, 'peach.': 196, 'black': 972, 'think': 240, 'difficult': 260, 'translate': 480, 'between': 540, 'spanish': 312, 'portuguese': 312, 'big': 1016, 'green': 972, 'strawberries.': 392, 'translating': 300, 'fun': 260, 'grapes.': 319, 'lemon.': 196, 'where': 12, '?': 811, 'dog': 192, 'why': 240, 'might': 378, 'go': 1386, 'this': 768, 'drove': 648, 'shiny': 972, 'orange.': 197, 'pear.': 196, 'sharks': 64, 'monkey': 192, 'strawberry.': 133, 'how': 67, 'weather': 33, 'lion': 192, 'plans': 476, 'bear': 192, 'pears.': 393, 'apple.': 196, 'rabbit': 192, \"it's\": 240, 'chinese': 312, 'when': 144, 'eiffel': 57, 'tower': 57, 'did': 204, 'grocery': 57, 'store': 57, 'wanted': 378, 'fruit.': 87, 'does': 24, 'football': 57, 'field': 57, 'wants': 252, \"didn't\": 60, 'lime.': 168, 'snake': 192, 'snakes': 64, 'do': 84, 'easy': 260, 'thinks': 360, 'english': 312, 'french': 312, 'would': 48, \"aren't\": 36, 'cats': 64, 'rabbits': 64, 'has': 24, 'been': 36, 'limes.': 290, 'monkeys': 64, 'grape.': 145, 'lake': 57, 'bears': 64, 'school': 57, 'birds': 64, 'want': 126, \"isn't\": 24, 'lions': 64, 'am': 24, 'mice': 64, 'have': 12}\n"
     ]
    }
   ],
   "source": [
    "print('======================  English word counter  ====================','\\n','\\n',en_w_count)"
   ]
  },
  {
   "cell_type": "code",
   "execution_count": 9,
   "metadata": {},
   "outputs": [
    {
     "name": "stdout",
     "output_type": "stream",
     "text": [
      "======================  French word counter  ==================== \n",
      " \n",
      " {'new': 11047, 'jersey': 11052, 'est': 196809, 'parfois': 37746, 'calme': 7256, 'pendant': 10741, \"l'\": 32917, 'automne': 14727, ',': 123135, 'et': 59851, 'il': 84079, 'neigeux': 1867, 'en': 105768, 'avril': 8954, '.': 135619, 'les': 65255, 'états-unis': 11210, 'généralement': 31292, 'froid': 16794, 'juillet': 8956, 'gèle': 3622, 'habituellement': 6215, 'novembre': 8951, 'california': 3061, 'mars': 9023, 'chaud': 16405, 'juin': 9133, 'légère': 63, 'fait': 2916, 'septembre': 8958, 'votre': 9368, 'moins': 27557, 'aimé': 24842, 'fruit': 23626, 'le': 35306, 'raisin': 4852, 'mais': 63987, 'mon': 9403, 'la': 49861, 'pomme': 4848, 'son': 16496, 'préféré': 22886, \"l'orange\": 4848, 'paris': 11334, 'relaxant': 8458, 'décembre': 8945, 'occupé': 7782, 'au': 25738, 'printemps': 9100, 'jamais': 37215, 'chaude': 1124, 'notre': 8319, 'citron': 4848, 'janvier': 9090, 'chaux': 4848, 'des': 2435, 'fruits': 3566, 'banane': 4848, 'aimé.': 1010, 'a': 1356, 'vu': 645, 'un': 698, 'vieux': 325, 'camion': 1944, 'jaune': 972, 'inde': 11277, 'pluvieux': 7658, 'ce': 1465, 'chat': 192, 'était': 1198, 'animal': 2248, 'plus': 14934, \"n'aime\": 3131, 'pamplemousse': 10140, 'citrons': 11679, 'verts': 5835, 'californie': 8189, 'ne': 2715, 'février': 8942, 'gel': 4886, 'chine': 10936, 'agréable': 17751, 'octobre': 8911, 'merveilleux': 8704, 'doux': 8458, 'tranquille': 1437, 'à': 13870, \"l'automne\": 3411, 'été': 8999, 'france': 11170, 'mois': 14350, 'de': 15070, 'mai': 8995, 'frisquet': 834, 'déteste': 3743, 'raisins': 5780, 'mangues': 5774, 'leur': 7855, 'mangue': 4899, 'poire': 4848, 'août': 8789, 'beau': 6387, 'pommes': 5844, 'pêches': 5844, 'redouté': 576, 'que': 667, 'requin': 192, 'humide': 8446, \"d'\": 5100, 'sec': 7957, 'enneigée': 4008, 'nous': 2520, 'aimons': 1111, 'oranges': 5844, 'ils': 3185, 'aiment': 1116, 'poires': 5844, 'elle': 12056, 'petit': 324, 'rouge': 972, 'cher': 1308, 'aimée': 105, 'neige': 3016, 'trop': 173, 'monde': 173, 'hiver': 9038, 'sont': 1018, \"n'aimait\": 561, 'pas': 4495, 'une': 1278, 'voiture': 3510, 'rouillée': 486, 'fraises': 5844, 'cours': 1927, \"j'aime\": 966, 'fraise': 4848, 'bananes': 5844, 'va': 355, 'aux': 392, 'prochain': 1666, 'je': 1548, 'prévois': 233, 'visiter': 908, 'belle': 2726, 'éléphants': 64, 'étaient': 357, 'ses': 402, 'animaux': 768, 'redoutés': 190, 'vont': 168, 'aime': 8870, 'préférée': 770, \"n'aiment\": 1111, 'i': 150, 'comme': 259, 'conduit': 1706, 'pêche': 4848, 'préféré.': 419, 'nouvelle': 648, 'bleue': 504, 'vous': 2517, 'aimez': 1053, 'cet': 286, 'oiseau': 128, 'pamplemousses': 552, 'pleut': 562, 'magnifique': 104, 'favori': 3857, 'vos': 225, 'aimés': 237, 'chevaux': 64, \"n'aimez\": 1094, \"n'aimons\": 97, 'souris': 256, 'détestons': 1001, 'allé': 187, 'dernier': 757, 'conduisait': 673, 'petite': 615, 'glaciales': 307, 'cheval': 192, 'vieille': 647, 'chiens': 64, 'préférés': 383, 'blanche': 579, 'occupée': 836, 'nos': 613, \"l'éléphant\": 64, 'nouveau': 502, 'noire': 602, 'pluies': 367, 'pense': 540, \"qu'il\": 393, 'difficile': 260, 'traduire': 501, 'entre': 540, 'espagnol': 312, 'portugais': 312, 'bleu': 468, 'rouillé': 454, 'aimait': 707, 'grande': 459, 'verte': 628, 'traduction': 277, 'amusant': 260, 'cette': 1239, 'vert': 344, 'grand': 81, 'blanc': 393, 'volant': 165, 'gros': 258, 'où': 12, 'États-unis': 57, '?': 811, 'chien': 192, 'leurs': 1072, 'pourquoi': 240, '-': 328, \"l'automobile\": 100, 'pourrait': 252, 'se': 461, 'rendre': 350, 'prévoyons': 232, 'maillot': 173, 'grosse': 185, 'brillant': 587, 'prévoient': 75, 'mouillée': 7, 'lui': 70, 'détendre': 111, 'automobile': 278, 'pourraient': 126, 'aller': 1180, 'mes': 297, 'sèche': 837, \"l'oiseau\": 64, 'pluie': 174, 'requins': 64, 'noir': 370, 'singe': 192, 'détestait': 87, 'comment': 67, 'temps': 33, 'dans': 12, 'lion': 192, 'prévoit': 75, 'ours': 192, 'porcelaine': 17, 'clémentes': 200, 'plaît': 13, 'proches': 20, 'brillante': 385, 'lapin': 192, \"l'ours\": 64, 'chinois': 312, 'quand': 144, 'tour': 57, 'eiffel': 57, 'est-ce': 12, 'allons': 45, \"l'épicerie\": 57, 'voulait': 252, 'cépage': 60, 't': 18, 'terrain': 57, 'football': 57, 'du': 39, 'veut': 252, 'éléphant': 128, 'gelé': 94, 'bien': 77, 'enneigé': 7, 'gelés': 5, 'serpent': 192, 'allés': 150, 'allée': 150, 'envisage': 360, 'peu': 41, 'mouillé': 273, 'serpents': 64, 'pensez': 60, 'facile': 260, 'anglais': 312, 'français': 312, 'voulez': 12, 'grandes': 16, 'avez': 162, 'aimeraient': 12, 'allez': 45, 'chats': 64, 'lapins': 64, 'visite': 68, 'ont': 194, 'intention': 206, \"n'est\": 47, '-elle': 24, 'dernière': 24, 'voulaient': 126, 'singes': 64, 'êtes-vous': 24, '-ce': 95, \"qu'elle\": 26, 'vers': 76, 'lac': 57, 'pousse': 41, 'détestez': 17, 'manguiers': 19, 'grands': 9, '-il': 36, \"l'école\": 57, '-ils': 26, \"l'animal\": 56, 'at': 32, 'oiseaux': 64, 'ressort': 2, 'petits': 10, \"n'a\": 12, 'veulent': 126, 'rouille': 32, 'frais': 20, 'limes': 9, 'lions': 64, 'douce': 14, 'envisagent': 9, 'petites': 26, 'vais': 24, 'durant': 14, \"c'est\": 17, 'congélation': 14, 'allions': 1, 'voudrait': 24, 'détend': 2, 'trouvé': 1, 'préférées': 16, 'conduite': 6, 'grosses': 8, 'bénigne': 8, 'avons': 19, 'sur': 28, 'redoutée': 2, 'etats-unis': 3, 'moindres': 7, 'aiment-ils': 10, \"n'êtes\": 3, 'vit': 3, 'as-tu': 1, 'qui': 2, 'faire': 1, 'traduis': 2, 'favoris': 1, 'souvent': 1, 'es-tu': 1, 'apprécié': 2, 'moteur': 1, 'tout': 4}\n"
     ]
    }
   ],
   "source": [
    "print('======================  French word counter  ====================','\\n','\\n',fr_w_count)"
   ]
  },
  {
   "cell_type": "markdown",
   "metadata": {},
   "source": [
    "### 1.3 Create and apply a word counter\n",
    "\n",
    "Using the word counter I create a function that returns two Dictionary objects.  These dictionaries contain all the words that exceed a minimum number of repetitions in the dataset, and their assigned ID. One of the dictionaries has as key the word and as value the ID, and the other dictionary inverts the key and the value of the first one."
   ]
  },
  {
   "cell_type": "code",
   "execution_count": 10,
   "metadata": {},
   "outputs": [],
   "source": [
    "def create_dic(t_count, min_t=1, start=False, end=False, nan=False):\n",
    "    id2t = {}\n",
    "    t2id = {}\n",
    "    id = 0\n",
    "    \n",
    "    if nan == True:                 # There is no word\n",
    "        id2t[str(id)] = '<nan>'\n",
    "        t2id['<nan>'] = id\n",
    "        id += 1\n",
    "    \n",
    "    if start == True:               # start value of the phrase\n",
    "        id2t[str(id)] = '<start>'\n",
    "        t2id['<start>'] = id\n",
    "        id += 1\n",
    "        \n",
    "    if end == True:                 # end value of the phrase\n",
    "        id2t[str(id)] = '<end>'\n",
    "        t2id['<end>'] = id\n",
    "        id += 1\n",
    "        \n",
    "    for i in t_count:               \n",
    "        if t_count[i] >= min_t:    # The word is repeated more than the minimum chosen\n",
    "            \n",
    "            t2id[i] = id\n",
    "            id2t[str(id)] = i\n",
    "            \n",
    "            id += 1\n",
    "            \n",
    "    # add to the dictionary a token and an Id to the tokens that are not in the dictionary\n",
    "    t2id['<str>'] = id            \n",
    "    id2t[str(id)] = '<str>'\n",
    "\n",
    "    return id2t, t2id"
   ]
  },
  {
   "cell_type": "code",
   "execution_count": 11,
   "metadata": {},
   "outputs": [],
   "source": [
    "en_id2t, en_t2id = create_dic(en_w_count, min_t=1, start=True, end=True, nan=True)\n",
    "fr_id2t, fr_t2id = create_dic(fr_w_count, min_t=1, start=True, end=True, nan=True)"
   ]
  },
  {
   "cell_type": "markdown",
   "metadata": {},
   "source": [
    "**English dictionary whose key is the word and the value is the ID**"
   ]
  },
  {
   "cell_type": "code",
   "execution_count": 12,
   "metadata": {},
   "outputs": [
    {
     "name": "stdout",
     "output_type": "stream",
     "text": [
      "{'<nan>': 0, '<start>': 1, '<end>': 2, 'new': 3, 'jersey': 4, 'is': 5, 'sometimes': 6, 'quiet': 7, 'during': 8, 'autumn': 9, ',': 10, 'and': 11, 'it': 12, 'snowy': 13, 'in': 14, 'april': 15, '.': 16, 'the': 17, 'united': 18, 'states': 19, 'usually': 20, 'chilly': 21, 'july': 22, 'freezing': 23, 'november': 24, 'california': 25, 'march': 26, 'hot': 27, 'june': 28, 'mild': 29, 'cold': 30, 'september': 31, 'your': 32, 'least': 33, 'liked': 34, 'fruit': 35, 'grape': 36, 'but': 37, 'my': 38, 'apple': 39, 'his': 40, 'favorite': 41, 'orange': 42, 'paris': 43, 'relaxing': 44, 'december': 45, 'busy': 46, 'spring': 47, 'never': 48, 'our': 49, 'lemon': 50, 'january': 51, 'warm': 52, 'lime': 53, 'her': 54, 'banana': 55, 'he': 56, 'saw': 57, 'a': 58, 'old': 59, 'yellow': 60, 'truck': 61, 'india': 62, 'rainy': 63, 'that': 64, 'cat': 65, 'was': 66, 'most': 67, 'loved': 68, 'animal': 69, 'dislikes': 70, 'grapefruit': 71, 'limes': 72, 'lemons': 73, 'february': 74, 'china': 75, 'pleasant': 76, 'october': 77, 'wonderful': 78, 'nice': 79, 'summer': 80, 'france': 81, 'may': 82, 'grapes': 83, 'mangoes.': 84, 'their': 85, 'mango': 86, 'pear': 87, 'august': 88, 'beautiful': 89, 'apples': 90, 'peaches': 91, 'feared': 92, 'shark': 93, 'wet': 94, 'dry': 95, 'we': 96, 'like': 97, 'oranges': 98, 'mangoes': 99, 'they': 100, 'pears': 101, 'she': 102, 'little': 103, 'red': 104, 'winter': 105, 'disliked': 106, 'rusty': 107, 'car': 108, 'strawberries': 109, 'i': 110, 'strawberry': 111, 'bananas.': 112, 'going': 113, 'to': 114, 'next': 115, 'plan': 116, 'visit': 117, 'elephants': 118, 'were': 119, 'animals': 120, 'favorite.': 121, 'are': 122, 'likes': 123, 'bananas': 124, 'dislike': 125, 'fall': 126, 'driving': 127, 'oranges.': 128, 'liked.': 129, 'peach': 130, 'loved.': 131, 'drives': 132, 'blue': 133, 'you': 134, 'bird': 135, 'grapefruit.': 136, 'horses': 137, 'mouse': 138, 'went': 139, 'last': 140, 'peaches.': 141, 'horse': 142, 'automobile': 143, 'dogs': 144, 'white': 145, 'elephant': 146, 'lemons.': 147, 'mango.': 148, 'apples.': 149, 'banana.': 150, 'peach.': 151, 'black': 152, 'think': 153, 'difficult': 154, 'translate': 155, 'between': 156, 'spanish': 157, 'portuguese': 158, 'big': 159, 'green': 160, 'strawberries.': 161, 'translating': 162, 'fun': 163, 'grapes.': 164, 'lemon.': 165, 'where': 166, '?': 167, 'dog': 168, 'why': 169, 'might': 170, 'go': 171, 'this': 172, 'drove': 173, 'shiny': 174, 'orange.': 175, 'pear.': 176, 'sharks': 177, 'monkey': 178, 'strawberry.': 179, 'how': 180, 'weather': 181, 'lion': 182, 'plans': 183, 'bear': 184, 'pears.': 185, 'apple.': 186, 'rabbit': 187, \"it's\": 188, 'chinese': 189, 'when': 190, 'eiffel': 191, 'tower': 192, 'did': 193, 'grocery': 194, 'store': 195, 'wanted': 196, 'fruit.': 197, 'does': 198, 'football': 199, 'field': 200, 'wants': 201, \"didn't\": 202, 'lime.': 203, 'snake': 204, 'snakes': 205, 'do': 206, 'easy': 207, 'thinks': 208, 'english': 209, 'french': 210, 'would': 211, \"aren't\": 212, 'cats': 213, 'rabbits': 214, 'has': 215, 'been': 216, 'limes.': 217, 'monkeys': 218, 'grape.': 219, 'lake': 220, 'bears': 221, 'school': 222, 'birds': 223, 'want': 224, \"isn't\": 225, 'lions': 226, 'am': 227, 'mice': 228, 'have': 229, '<str>': 230}\n"
     ]
    }
   ],
   "source": [
    "print(en_t2id)"
   ]
  },
  {
   "cell_type": "code",
   "execution_count": 13,
   "metadata": {},
   "outputs": [
    {
     "name": "stdout",
     "output_type": "stream",
     "text": [
      "{'0': '<nan>', '1': '<start>', '2': '<end>', '3': 'new', '4': 'jersey', '5': 'is', '6': 'sometimes', '7': 'quiet', '8': 'during', '9': 'autumn', '10': ',', '11': 'and', '12': 'it', '13': 'snowy', '14': 'in', '15': 'april', '16': '.', '17': 'the', '18': 'united', '19': 'states', '20': 'usually', '21': 'chilly', '22': 'july', '23': 'freezing', '24': 'november', '25': 'california', '26': 'march', '27': 'hot', '28': 'june', '29': 'mild', '30': 'cold', '31': 'september', '32': 'your', '33': 'least', '34': 'liked', '35': 'fruit', '36': 'grape', '37': 'but', '38': 'my', '39': 'apple', '40': 'his', '41': 'favorite', '42': 'orange', '43': 'paris', '44': 'relaxing', '45': 'december', '46': 'busy', '47': 'spring', '48': 'never', '49': 'our', '50': 'lemon', '51': 'january', '52': 'warm', '53': 'lime', '54': 'her', '55': 'banana', '56': 'he', '57': 'saw', '58': 'a', '59': 'old', '60': 'yellow', '61': 'truck', '62': 'india', '63': 'rainy', '64': 'that', '65': 'cat', '66': 'was', '67': 'most', '68': 'loved', '69': 'animal', '70': 'dislikes', '71': 'grapefruit', '72': 'limes', '73': 'lemons', '74': 'february', '75': 'china', '76': 'pleasant', '77': 'october', '78': 'wonderful', '79': 'nice', '80': 'summer', '81': 'france', '82': 'may', '83': 'grapes', '84': 'mangoes.', '85': 'their', '86': 'mango', '87': 'pear', '88': 'august', '89': 'beautiful', '90': 'apples', '91': 'peaches', '92': 'feared', '93': 'shark', '94': 'wet', '95': 'dry', '96': 'we', '97': 'like', '98': 'oranges', '99': 'mangoes', '100': 'they', '101': 'pears', '102': 'she', '103': 'little', '104': 'red', '105': 'winter', '106': 'disliked', '107': 'rusty', '108': 'car', '109': 'strawberries', '110': 'i', '111': 'strawberry', '112': 'bananas.', '113': 'going', '114': 'to', '115': 'next', '116': 'plan', '117': 'visit', '118': 'elephants', '119': 'were', '120': 'animals', '121': 'favorite.', '122': 'are', '123': 'likes', '124': 'bananas', '125': 'dislike', '126': 'fall', '127': 'driving', '128': 'oranges.', '129': 'liked.', '130': 'peach', '131': 'loved.', '132': 'drives', '133': 'blue', '134': 'you', '135': 'bird', '136': 'grapefruit.', '137': 'horses', '138': 'mouse', '139': 'went', '140': 'last', '141': 'peaches.', '142': 'horse', '143': 'automobile', '144': 'dogs', '145': 'white', '146': 'elephant', '147': 'lemons.', '148': 'mango.', '149': 'apples.', '150': 'banana.', '151': 'peach.', '152': 'black', '153': 'think', '154': 'difficult', '155': 'translate', '156': 'between', '157': 'spanish', '158': 'portuguese', '159': 'big', '160': 'green', '161': 'strawberries.', '162': 'translating', '163': 'fun', '164': 'grapes.', '165': 'lemon.', '166': 'where', '167': '?', '168': 'dog', '169': 'why', '170': 'might', '171': 'go', '172': 'this', '173': 'drove', '174': 'shiny', '175': 'orange.', '176': 'pear.', '177': 'sharks', '178': 'monkey', '179': 'strawberry.', '180': 'how', '181': 'weather', '182': 'lion', '183': 'plans', '184': 'bear', '185': 'pears.', '186': 'apple.', '187': 'rabbit', '188': \"it's\", '189': 'chinese', '190': 'when', '191': 'eiffel', '192': 'tower', '193': 'did', '194': 'grocery', '195': 'store', '196': 'wanted', '197': 'fruit.', '198': 'does', '199': 'football', '200': 'field', '201': 'wants', '202': \"didn't\", '203': 'lime.', '204': 'snake', '205': 'snakes', '206': 'do', '207': 'easy', '208': 'thinks', '209': 'english', '210': 'french', '211': 'would', '212': \"aren't\", '213': 'cats', '214': 'rabbits', '215': 'has', '216': 'been', '217': 'limes.', '218': 'monkeys', '219': 'grape.', '220': 'lake', '221': 'bears', '222': 'school', '223': 'birds', '224': 'want', '225': \"isn't\", '226': 'lions', '227': 'am', '228': 'mice', '229': 'have', '230': '<str>'}\n"
     ]
    }
   ],
   "source": [
    "print(en_id2t)"
   ]
  },
  {
   "cell_type": "markdown",
   "metadata": {},
   "source": [
    "### 1.4 Data preprocessing\n",
    "\n",
    "The first step in preprocessing the data is to transform the sentences into lists, where the list values are the words, creating a list of lists. The second step is to change the words with the respective IDs.\n",
    "\n",
    "The following function does these two steps:"
   ]
  },
  {
   "cell_type": "code",
   "execution_count": 14,
   "metadata": {},
   "outputs": [],
   "source": [
    "def tokenize(list, dict):\n",
    "    list = [dict[i] for i in list]\n",
    "    return list"
   ]
  },
  {
   "cell_type": "code",
   "execution_count": 15,
   "metadata": {},
   "outputs": [],
   "source": [
    "def tokenize_list(list, dict):\n",
    "    list = tokenize(list, dict)\n",
    "    size = len(dict)\n",
    "    out = []\n",
    "    \n",
    "    for i in list:\n",
    "        arr = [0.]*size\n",
    "        arr[i] = 1.\n",
    "        out.append(arr)\n",
    "    \n",
    "    return out"
   ]
  },
  {
   "cell_type": "markdown",
   "metadata": {},
   "source": [
    "### 1.5 Create Training, Validation and Test Datasets\n",
    "The next step separates the phrases we have in the three datasets in a random way according to the proportion we choose"
   ]
  },
  {
   "cell_type": "code",
   "execution_count": 16,
   "metadata": {},
   "outputs": [],
   "source": [
    "tr_db = []\n",
    "te_db = []\n",
    "va_db = []\n",
    "\n",
    "tr_va_p = 0.7 \n",
    "tr_p = 0.7\n",
    "\n",
    "if fr_max_w > en_max_w:\n",
    "    ph_lon = fr_max_w + 2\n",
    "else:\n",
    "    ph_lon = en_max_w + 2\n",
    "    \n",
    "for (en,fr) in zip(english_sentences, french_sentences):\n",
    "    \n",
    "    en = [en_t2id['<start>']] + tokenize(en.split(), en_t2id) + [en_t2id['<end>']]   # creta a list with the words id values \n",
    "    en = en + [0]*(ph_lon-len(en))\n",
    "    fr = [fr_t2id['<start>']] + tokenize(fr.split(), fr_t2id) + [fr_t2id['<end>']]\n",
    "    fr = fr + [0]*(ph_lon-len(fr))\n",
    "    \n",
    "    if random.random() < tr_va_p:\n",
    "        if random.random() < tr_p:\n",
    "            tr_db.append((torch.LongTensor(en), torch.LongTensor(fr)))\n",
    "        else:\n",
    "            va_db.append((torch.LongTensor(en), torch.LongTensor(fr)))\n",
    "    else:\n",
    "        te_db.append((torch.LongTensor(en), torch.LongTensor(fr)))\n",
    "#     if random.random() < tr_va_p:\n",
    "#         if random.random() < tr_p:\n",
    "#             tr_db.append((en, fr))\n",
    "#         else:\n",
    "#             va_db.append((en, fr))\n",
    "#     else:\n",
    "#         te_db.append((en, fr))"
   ]
  },
  {
   "cell_type": "code",
   "execution_count": 17,
   "metadata": {
    "scrolled": true
   },
   "outputs": [
    {
     "name": "stdout",
     "output_type": "stream",
     "text": [
      "Some examples:\n",
      "tensor([ 1, 25,  5, 20,  7,  8, 26, 10, 11, 12,  5, 20, 27, 14, 28, 16,  2,  0,\n",
      "         0,  0,  0,  0,  0,  0,  0])\n",
      "tensor([ 1, 43,  5, 44,  8, 45, 10, 37, 12,  5, 20, 21, 14, 22, 16,  2,  0,  0,\n",
      "         0,  0,  0,  0,  0,  0,  0])\n",
      "tensor([ 1,  3,  4,  5, 46,  8, 47, 10, 11, 12,  5, 48, 27, 14, 26, 16,  2,  0,\n",
      "         0,  0,  0,  0,  0,  0,  0])\n",
      "tensor([ 1, 49, 33, 34, 35,  5, 17, 50, 10, 37, 38, 33, 34,  5, 17, 36, 16,  2,\n",
      "         0,  0,  0,  0,  0,  0,  0])\n"
     ]
    }
   ],
   "source": [
    "print('Some examples:')\n",
    "for i in range(4):\n",
    "    print(te_db[i][0])"
   ]
  },
  {
   "cell_type": "code",
   "execution_count": 18,
   "metadata": {},
   "outputs": [
    {
     "name": "stdout",
     "output_type": "stream",
     "text": [
      "Some examples:\n",
      "tensor([ 1, 26,  5, 20,  7, 15, 27, 11, 12, 13,  5, 20, 28, 15, 29, 17,  2,  0,\n",
      "         0,  0,  0,  0,  0,  0,  0])\n",
      "tensor([ 1, 46,  5, 47, 15, 48, 11, 39, 13,  5, 20, 21, 15, 22, 17,  2,  0,  0,\n",
      "         0,  0,  0,  0,  0,  0,  0])\n",
      "tensor([ 1,  3,  4,  5, 49, 50, 51, 11, 12, 13,  5, 52, 53, 15, 27, 17,  2,  0,\n",
      "         0,  0,  0,  0,  0,  0,  0])\n",
      "tensor([ 1, 54, 36,  5, 34, 35, 37, 55, 11, 39, 40, 34, 35,  5, 37, 38, 17,  2,\n",
      "         0,  0,  0,  0,  0,  0,  0])\n"
     ]
    }
   ],
   "source": [
    "print('Some examples:')\n",
    "for i in range(4):\n",
    "    print(te_db[i][1])"
   ]
  },
  {
   "cell_type": "markdown",
   "metadata": {},
   "source": [
    "1 mean that the phrase is starting (*start*), and 2 mean that it is the end of the phrase (*end*)"
   ]
  },
  {
   "cell_type": "markdown",
   "metadata": {},
   "source": [
    "## 2. THE RNN\n",
    "\n",
    "This model is created using two LSTM models, the Encoder and the Decoder. The layers we use in the model are:\n",
    "* Embeding Layers (nn.Embedding()): A simple lookup table that stores embeddings of a fixed dictionary and size.\n",
    "* Long Sort Term Memory Layer (LSTM())\n",
    "* Full Conect Layers (Dense())\n",
    "* Drop Out Layer\n",
    "\n"
   ]
  },
  {
   "cell_type": "markdown",
   "metadata": {},
   "source": [
    "### 2.1 The Architecture\n",
    "\n",
    "#### 2.1.1 Encoder\n",
    "The encoder is the part of the neural network that \"reads\" the text and returns a matrix with the encoded information, to perform this step I am using a Bidirectional LSTM. The output matrix with the encoded information is obtained after inserting in a Dense NN the outputs of the first and last words. \n",
    "<img src='images/encoder_bd.png' width=50% height=50%/>"
   ]
  },
  {
   "cell_type": "markdown",
   "metadata": {},
   "source": [
    "#### 2.1.2 Decoder\n",
    "The decoder NN recive the characteristics of the text to translate, encoded in a array and using tha sequence to sequence architecture. The encoder output is the first input.\n",
    "<img src='images/decoder.png' width=50% height=50%/>\n"
   ]
  },
  {
   "cell_type": "code",
   "execution_count": 19,
   "metadata": {},
   "outputs": [
    {
     "name": "stdout",
     "output_type": "stream",
     "text": [
      "Encoder_Decoder(\n",
      "  (emb1): Embedding(232, 200)\n",
      "  (emb2): Embedding(360, 250)\n",
      "  (LSTM1): LSTM(200, 200, batch_first=True, bidirectional=True)\n",
      "  (LSTM2): LSTM(250, 250, num_layers=2, batch_first=True)\n",
      "  (Dense1): Linear(in_features=800, out_features=250, bias=True)\n",
      "  (Dense2): Linear(in_features=250, out_features=1795, bias=True)\n",
      "  (Dense3): Linear(in_features=1795, out_features=359, bias=True)\n",
      "  (ELU1): ELU(alpha=1.0)\n",
      "  (ELU2): ELU(alpha=1.0)\n",
      "  (ELU3): ELU(alpha=1.0)\n",
      "  (relu1): ReLU()\n",
      "  (dropout1): Dropout(p=0.3, inplace=False)\n",
      ")\n"
     ]
    }
   ],
   "source": [
    "import torch\n",
    "from torch import nn\n",
    "import torch.nn.functional as F\n",
    "\n",
    "class Encoder_Decoder(nn.Module):\n",
    "\n",
    "    def __init__(self, en_dic = len(en_t2id), fr_dic=len(fr_t2id), device='cuda'): #, decod_trainer):\n",
    "        super(Encoder_Decoder, self).__init__()\n",
    "        \n",
    "        self.device = device\n",
    "#         self.decod_trainer = decod_trainer\n",
    "        \n",
    "        # Embeding Layer\n",
    "        # https://pytorch.org/docs/stable/generated/torch.nn.Embedding.html\n",
    "        self.emb1 = nn.Embedding(en_dic+1, 200)\n",
    "        self.emb2 = nn.Embedding(fr_dic+1, 250) \n",
    "        \n",
    "        # Bidirectional LSTM Layer\n",
    "        # https://pytorch.org/docs/1.9.1/generated/torch.nn.LSTM.html\n",
    "        self.LSTM1 = nn.LSTM(200, 200, num_layers=1, dropout=0.0, batch_first=True, bidirectional=True)\n",
    "        self.LSTM2 = nn.LSTM(250, 250, num_layers=2, dropout=0.0, batch_first=True)\n",
    "        \n",
    "        # Dense Layer\n",
    "        self.Dense1 = nn.Linear(200*4, 250)\n",
    "        self.Dense2 = nn.Linear(250, fr_dic*5)\n",
    "        self.Dense3 = nn.Linear(fr_dic*5, fr_dic)\n",
    "        \n",
    "        #Activation Function\n",
    "        self.ELU1 = nn.ELU()\n",
    "        self.ELU2 = nn.ELU()\n",
    "        self.ELU3 = nn.ELU()\n",
    "        self.relu1 = nn.ReLU()\n",
    "        \n",
    "        #Drop Out layer\n",
    "        self.dropout1 = nn.Dropout(p=0.3)\n",
    "        \n",
    "        \n",
    "    def forward(self, x, y):\n",
    "        \n",
    "        output = []\n",
    "        for ph, ph_dec in zip(x, y):\n",
    "            \n",
    "            #### ENCODER\n",
    "            self.hidden1 = ( torch.zeros(2,1, 200).to(self.device), \n",
    "                       torch.zeros(2,1, 200).to(self.device) )\n",
    "            \n",
    "            \n",
    "            for i in range(ph.size()[0]):\n",
    "                if ph[i] == 0:\n",
    "                    ph = ph[:i]\n",
    "                    break\n",
    "            out = ph.view((1,ph.size()[0]))\n",
    "            out = self.emb1(out)\n",
    "            out, self.hidden1 = self.LSTM1(out, self.hidden1)\n",
    "            #out = self.ELU1(out)\n",
    "            out = torch.cat((out[0][0],out[0][-1]), 0)\n",
    "            out = self.Dense1(out)\n",
    "            out = self.ELU2(out)\n",
    "            out = self.dropout1(out)\n",
    "            \n",
    "            #### Decoder\n",
    "            self.hidden2 = ( torch.zeros(2,1, 250).to(self.device), \n",
    "                       torch.zeros(2,1, 250).to(self.device) )\n",
    "            \n",
    "            for i in range(ph_dec.size()[0]):\n",
    "                if ph_dec[i] == 2:\n",
    "                    ph_dec = ph_dec[1:i]\n",
    "                    break\n",
    "            out = out.view((1,1,out.size()[0]))\n",
    "            #out, self.hidden2 = self.LSTM2(out, self.hidden2)\n",
    "            dec_inp = ph_dec.view((1,ph_dec.size()[0]))\n",
    "            dec_inp = self.emb2(dec_inp)\n",
    "            out = torch.cat((out, dec_inp), 1)\n",
    "            out, self.hidden2 = self.LSTM2(out, self.hidden2)\n",
    "            #out = self.ELU3(out)\n",
    "            out = self.Dense2(out)\n",
    "            out = self.relu1(out)\n",
    "            out = self.dropout1(out)\n",
    "            out = self.Dense3(out)\n",
    "            \n",
    "            \n",
    "            output.append(out)\n",
    "        return output\n",
    "    \n",
    "    def predict(self, x):\n",
    "        end = False\n",
    "        ph_tr = []\n",
    "        output = []\n",
    "        it = 0\n",
    "        for ph in x:\n",
    "            \n",
    "            #### ENCODER\n",
    "            self.hidden1 = ( torch.zeros(2,1, 200).to(self.device), \n",
    "                       torch.zeros(2,1, 200).to(self.device) )\n",
    "            \n",
    "            \n",
    "            for i in range(ph.size()[0]):\n",
    "                if ph[i] == 2:\n",
    "                    ph = ph[:i+1]\n",
    "                    break\n",
    "            out = ph.view((1,ph.size()[0]))\n",
    "            out = self.emb1(out)\n",
    "            out, self.hidden1 = self.LSTM1(out, self.hidden1)\n",
    "            #out = self.ELU1(out)\n",
    "            out = torch.cat((out[0][0],out[0][-1]), 0)\n",
    "            out = self.Dense1(out)\n",
    "            out = self.ELU2(out)\n",
    "            \n",
    "            #### Decoder\n",
    "            self.hidden2 = ( torch.zeros(2,1, 250).to(self.device), \n",
    "                       torch.zeros(2,1, 250).to(self.device) )\n",
    "            \n",
    "            out = out.view((1,1,out.size()[0]))\n",
    "            \n",
    "            while end == False and it<=25:\n",
    "                if it != 0:\n",
    "                    out = self.emb2(out)\n",
    "                out, self.hidden2 = self.LSTM2(out, self.hidden2)\n",
    "                out = self.Dense2(out)\n",
    "                out = self.relu1(out)\n",
    "                out = self.Dense3(out)\n",
    "                out = out.max(2)[1]\n",
    "                ph_tr.append(out.item())\n",
    "                \n",
    "                if out == 2:\n",
    "                    end = True\n",
    "                it += 1\n",
    "            output.append(ph)\n",
    "            ph = []\n",
    "        return output\n",
    "  \n",
    "            \n",
    "print(Encoder_Decoder())        "
   ]
  },
  {
   "cell_type": "markdown",
   "metadata": {},
   "source": [
    "## 3. Training and Test\n",
    "\n",
    "#### 3.1 Hyperparameters"
   ]
  },
  {
   "cell_type": "code",
   "execution_count": 20,
   "metadata": {},
   "outputs": [],
   "source": [
    "batch_size = 5\n",
    "epochs = 15\n",
    "device = 'cuda'\n",
    "#device = 'cpu'\n",
    "display_step = 100\n",
    "rnn = Encoder_Decoder(device=device).to(device)\n",
    "\n",
    "criterion = nn.CrossEntropyLoss()\n",
    "\n",
    "optimizer = torch.optim.Adam(rnn.parameters(), lr=0.0001, betas=(0.85, 0.999))\n",
    "\n",
    "tr_ds = DataLoader(tr_db, batch_size=batch_size, shuffle=True)\n",
    "te_ds = DataLoader(te_db, batch_size=50, shuffle=True)\n",
    "va_ds = DataLoader(va_db, batch_size=50, shuffle=False)"
   ]
  },
  {
   "cell_type": "markdown",
   "metadata": {},
   "source": [
    "#### 3.2 Loss Function\n",
    "In this case all sentences are not the same size, and it is not possible to introduce a tensor with arrays at different sizes in the loss function and ac. For this reason I need to customize both."
   ]
  },
  {
   "cell_type": "code",
   "execution_count": 21,
   "metadata": {},
   "outputs": [],
   "source": [
    "def loss_function(prediction, expected, optimizer, dict_len):\n",
    "    loss = False\n",
    "    counter = 0 \n",
    "    for pred, exp in zip(prediction, expected):\n",
    "        \n",
    "        for i in range(exp.size()[0]):\n",
    "            if exp[i] == 2:\n",
    "                exp = exp[1:i+1]\n",
    "                counter += i-1\n",
    "                break\n",
    "                \n",
    "        if loss != False:\n",
    "            loss += criterion( pred.view(-1,dict_len), exp.view(-1))*(i-1)\n",
    "        else:\n",
    "            loss = criterion( pred.view(-1,dict_len), exp.view(-1))*(i-1)\n",
    "            \n",
    "#         if exp.size() != pred.size():\n",
    "#             print('ERROR: Dimensioality error between the prediction and the expected data')\n",
    "        \n",
    "    loss = loss/counter\n",
    "    return loss"
   ]
  },
  {
   "cell_type": "code",
   "execution_count": 22,
   "metadata": {},
   "outputs": [],
   "source": [
    "def acc_function(prediction, expected):\n",
    "    \n",
    "    acc = 0\n",
    "    counter = 0 \n",
    "    for pred, exp in zip(prediction, expected):\n",
    "        pred = pred.detach().to('cpu')\n",
    "        exp = exp.detach().to('cpu')\n",
    "        \n",
    "        for i in range(exp.size()[0]):\n",
    "            if exp[i] == 2:\n",
    "                exp = exp[1:i+1]\n",
    "                counter += i-1\n",
    "                break\n",
    "                \n",
    "#         print(pred[0].max(1)[1].size())\n",
    "#         print(exp.size())\n",
    "        pred = pred[0].max(1)[1].numpy()\n",
    "        exp = exp.numpy()\n",
    "        \n",
    "        acc += accuracy_score(pred, exp)*(i-1)\n",
    "    \n",
    "    return acc/counter\n",
    "    "
   ]
  },
  {
   "cell_type": "markdown",
   "metadata": {},
   "source": [
    "### 3.3 Train the model\n",
    "In the next step the model is trained with the training data set using the hyperparameters we have selected. After each epoch the model is tested with the validation data set, if the loss value is less than the previous best result, we save this version as the best model. "
   ]
  },
  {
   "cell_type": "code",
   "execution_count": 23,
   "metadata": {
    "scrolled": true
   },
   "outputs": [
    {
     "data": {
      "application/vnd.jupyter.widget-view+json": {
       "model_id": "b2354a39f4544d769147507cf7b385a6",
       "version_major": 2,
       "version_minor": 0
      },
      "text/plain": [
       "HBox(children=(HTML(value=''), FloatProgress(value=0.0, max=13542.0), HTML(value='')))"
      ]
     },
     "metadata": {},
     "output_type": "display_data"
    },
    {
     "name": "stdout",
     "output_type": "stream",
     "text": [
      "Epoch: 1; training loss value: 0.6132933557033539; Best model=> Validation loss: False; Validation acc: False\n",
      "Best Model => loss validation:  0.6265814946212962 ; acc validation:  0.768164401139402\n"
     ]
    },
    {
     "data": {
      "application/vnd.jupyter.widget-view+json": {
       "model_id": "9499ec6f95ea4a97b464831801bd6473",
       "version_major": 2,
       "version_minor": 0
      },
      "text/plain": [
       "HBox(children=(HTML(value=''), FloatProgress(value=0.0, max=13542.0), HTML(value='')))"
      ]
     },
     "metadata": {},
     "output_type": "display_data"
    },
    {
     "name": "stdout",
     "output_type": "stream",
     "text": [
      "Epoch: 2; training loss value: 0.4434470671415329; Best model=> Validation loss: 0.6265814946212962; Validation acc: 0.7681644011394022\n",
      "Best Model => loss validation:  0.44235023212398095 ; acc validation:  0.8455012966046944\n"
     ]
    },
    {
     "data": {
      "application/vnd.jupyter.widget-view+json": {
       "model_id": "e28a835e1fc046b098504084f600fb8b",
       "version_major": 2,
       "version_minor": 0
      },
      "text/plain": [
       "HBox(children=(HTML(value=''), FloatProgress(value=0.0, max=13542.0), HTML(value='')))"
      ]
     },
     "metadata": {},
     "output_type": "display_data"
    },
    {
     "name": "stdout",
     "output_type": "stream",
     "text": [
      "Epoch: 3; training loss value: 0.35588482037186625; Best model=> Validation loss: 0.44235023212398095; Validation acc: 0.8455012966046944\n",
      "Best Model => loss validation:  0.33751138535088554 ; acc validation:  0.88604931634759\n"
     ]
    },
    {
     "data": {
      "application/vnd.jupyter.widget-view+json": {
       "model_id": "b0b63dcead774d8588ae568072fc8061",
       "version_major": 2,
       "version_minor": 0
      },
      "text/plain": [
       "HBox(children=(HTML(value=''), FloatProgress(value=0.0, max=13542.0), HTML(value='')))"
      ]
     },
     "metadata": {},
     "output_type": "display_data"
    },
    {
     "name": "stdout",
     "output_type": "stream",
     "text": [
      "Epoch: 4; training loss value: 0.27745657816529273; Best model=> Validation loss: 0.33751138535088554; Validation acc: 0.88604931634759\n",
      "Best Model => loss validation:  0.27776925884618675 ; acc validation:  0.9054142578897215\n"
     ]
    },
    {
     "data": {
      "application/vnd.jupyter.widget-view+json": {
       "model_id": "b86d599189e349d7b013ede32933c007",
       "version_major": 2,
       "version_minor": 0
      },
      "text/plain": [
       "HBox(children=(HTML(value=''), FloatProgress(value=0.0, max=13542.0), HTML(value='')))"
      ]
     },
     "metadata": {},
     "output_type": "display_data"
    },
    {
     "name": "stdout",
     "output_type": "stream",
     "text": [
      "Epoch: 5; training loss value: 0.1946743605285883; Best model=> Validation loss: 0.27776925884618675; Validation acc: 0.90541425788972155\n",
      "Best Model => loss validation:  0.19662542600086905 ; acc validation:  0.9302729718064578\n"
     ]
    },
    {
     "data": {
      "application/vnd.jupyter.widget-view+json": {
       "model_id": "c0dc856bb09644de886aa18124497279",
       "version_major": 2,
       "version_minor": 0
      },
      "text/plain": [
       "HBox(children=(HTML(value=''), FloatProgress(value=0.0, max=13542.0), HTML(value='')))"
      ]
     },
     "metadata": {},
     "output_type": "display_data"
    },
    {
     "name": "stdout",
     "output_type": "stream",
     "text": [
      "Epoch: 6; training loss value: 0.16715320134535433; Best model=> Validation loss: 0.19662542600086905; Validation acc: 0.9302729718064578\n",
      "Best Model => loss validation:  0.17697651549726787 ; acc validation:  0.9360799296087565\n"
     ]
    },
    {
     "data": {
      "application/vnd.jupyter.widget-view+json": {
       "model_id": "b86d881e963e4796bd6231ae55cdaed3",
       "version_major": 2,
       "version_minor": 0
      },
      "text/plain": [
       "HBox(children=(HTML(value=''), FloatProgress(value=0.0, max=13542.0), HTML(value='')))"
      ]
     },
     "metadata": {},
     "output_type": "display_data"
    },
    {
     "name": "stdout",
     "output_type": "stream",
     "text": [
      "Epoch: 7; training loss value: 0.13899426974356174; Best model=> Validation loss: 0.17697651549726787; Validation acc: 0.9360799296087565\n",
      "Best Model => loss validation:  0.15794619557187387 ; acc validation:  0.9421426921647847\n"
     ]
    },
    {
     "data": {
      "application/vnd.jupyter.widget-view+json": {
       "model_id": "e9d72d15dacf4b7495a7429e86c8b843",
       "version_major": 2,
       "version_minor": 0
      },
      "text/plain": [
       "HBox(children=(HTML(value=''), FloatProgress(value=0.0, max=13542.0), HTML(value='')))"
      ]
     },
     "metadata": {},
     "output_type": "display_data"
    },
    {
     "name": "stdout",
     "output_type": "stream",
     "text": [
      "Epoch: 8; training loss value: 0.13194973060395568; Best model=> Validation loss: 0.15794619557187387; Validation acc: 0.9421426921647847\n",
      "Best Model => loss validation:  0.14270631222158087 ; acc validation:  0.9474997522712202\n"
     ]
    },
    {
     "data": {
      "application/vnd.jupyter.widget-view+json": {
       "model_id": "2e81c2683f474f9ea1656d0fca5ccb86",
       "version_major": 2,
       "version_minor": 0
      },
      "text/plain": [
       "HBox(children=(HTML(value=''), FloatProgress(value=0.0, max=13542.0), HTML(value='')))"
      ]
     },
     "metadata": {},
     "output_type": "display_data"
    },
    {
     "name": "stdout",
     "output_type": "stream",
     "text": [
      "Epoch: 9; training loss value: 0.0927473863447085; Best model=> Validation loss: 0.14270631222158087; Validation acc: 0.94749975227122022\n",
      "Best Model => loss validation:  0.10500772321489914 ; acc validation:  0.9623837557032412\n"
     ]
    },
    {
     "data": {
      "application/vnd.jupyter.widget-view+json": {
       "model_id": "3a2a3ac2af784c2390ae7512344d20f0",
       "version_major": 2,
       "version_minor": 0
      },
      "text/plain": [
       "HBox(children=(HTML(value=''), FloatProgress(value=0.0, max=13542.0), HTML(value='')))"
      ]
     },
     "metadata": {},
     "output_type": "display_data"
    },
    {
     "name": "stdout",
     "output_type": "stream",
     "text": [
      "Epoch: 10; training loss value: 0.07791909822262824; Best model=> Validation loss: 0.10500772321489914; Validation acc: 0.9623837557032412\n",
      "Best Model => loss validation:  0.08615895384479531 ; acc validation:  0.9693836429699965\n"
     ]
    },
    {
     "data": {
      "application/vnd.jupyter.widget-view+json": {
       "model_id": "03fa657a2d124fbd80f12f70644728a7",
       "version_major": 2,
       "version_minor": 0
      },
      "text/plain": [
       "HBox(children=(HTML(value=''), FloatProgress(value=0.0, max=13542.0), HTML(value='')))"
      ]
     },
     "metadata": {},
     "output_type": "display_data"
    },
    {
     "name": "stdout",
     "output_type": "stream",
     "text": [
      "Epoch: 11; training loss value: 0.05425824481062591; Best model=> Validation loss: 0.08615895384479531; Validation acc: 0.96938364296999655\n",
      "Best Model => loss validation:  0.06231644563519169 ; acc validation:  0.9786978956180474\n"
     ]
    },
    {
     "data": {
      "application/vnd.jupyter.widget-view+json": {
       "model_id": "42400a70d1e14e5288ad5fcce144d8e2",
       "version_major": 2,
       "version_minor": 0
      },
      "text/plain": [
       "HBox(children=(HTML(value=''), FloatProgress(value=0.0, max=13542.0), HTML(value='')))"
      ]
     },
     "metadata": {},
     "output_type": "display_data"
    },
    {
     "name": "stdout",
     "output_type": "stream",
     "text": [
      "Epoch: 12; training loss value: 0.05945955938543193; Best model=> Validation loss: 0.06231644563519169; Validation acc: 0.97869789561804744\n",
      "Best Model => loss validation:  0.05210672176799092 ; acc validation:  0.9828236056181731\n"
     ]
    },
    {
     "data": {
      "application/vnd.jupyter.widget-view+json": {
       "model_id": "eceb814b6fda450ca794a8a79169c4d3",
       "version_major": 2,
       "version_minor": 0
      },
      "text/plain": [
       "HBox(children=(HTML(value=''), FloatProgress(value=0.0, max=13542.0), HTML(value='')))"
      ]
     },
     "metadata": {},
     "output_type": "display_data"
    },
    {
     "name": "stdout",
     "output_type": "stream",
     "text": [
      "Epoch: 13; training loss value: 0.03818253285484388; Best model=> Validation loss: 0.05210672176799092; Validation acc: 0.98282360561817311\n",
      "Best Model => loss validation:  0.04837001527731633 ; acc validation:  0.9841457765520424\n"
     ]
    },
    {
     "data": {
      "application/vnd.jupyter.widget-view+json": {
       "model_id": "f9ee8b848a304972a3bcdfdc61d98654",
       "version_major": 2,
       "version_minor": 0
      },
      "text/plain": [
       "HBox(children=(HTML(value=''), FloatProgress(value=0.0, max=13542.0), HTML(value='')))"
      ]
     },
     "metadata": {},
     "output_type": "display_data"
    },
    {
     "name": "stdout",
     "output_type": "stream",
     "text": [
      "Epoch: 14; training loss value: 0.030808705514064057; Best model=> Validation loss: 0.04837001527731633; Validation acc: 0.9841457765520424\n",
      "Best Model => loss validation:  0.04200089417020067 ; acc validation:  0.9865284609578638\n"
     ]
    },
    {
     "data": {
      "application/vnd.jupyter.widget-view+json": {
       "model_id": "fd0b28c36b8243af8306960201741a15",
       "version_major": 2,
       "version_minor": 0
      },
      "text/plain": [
       "HBox(children=(HTML(value=''), FloatProgress(value=0.0, max=13542.0), HTML(value='')))"
      ]
     },
     "metadata": {},
     "output_type": "display_data"
    },
    {
     "name": "stdout",
     "output_type": "stream",
     "text": [
      "Epoch: 15; training loss value: 0.026999501095851884; Best model=> Validation loss: 0.04200089417020067; Validation acc: 0.9865284609578638\n"
     ]
    }
   ],
   "source": [
    "h_loss = []\n",
    "h_loss_it = []\n",
    "val_loss = []\n",
    "val_loss_it = []\n",
    "val_acc = []\n",
    "\n",
    "avg_loss = 0\n",
    "count = 0\n",
    "T_it = 0\n",
    "best_model_loss = False\n",
    "best_model_acc = False\n",
    "\n",
    "it = 0\n",
    "\n",
    "for epoch in range(epochs):\n",
    "    \n",
    "    for eng, fre in tqdm(tr_ds):\n",
    "        it += 1\n",
    "        T_it += 1\n",
    "        \n",
    "        eng = eng.to(device)\n",
    "        fre = fre.to(device)\n",
    "        \n",
    "        # clear all the gradients\n",
    "        optimizer.zero_grad()\n",
    "        pred = rnn(eng, fre)\n",
    "        #print(pred.size())\n",
    "        #print(acc(pred, fre))\n",
    "        loss = loss_function(pred, fre, criterion, len(fr_t2id))\n",
    "        #loss = criterion(pred.view(-1, len(fr_t2id)), fre.view(-1))\n",
    "        #print(loss)\n",
    "        # Backward pass.\n",
    "        loss.backward()\n",
    "        # Update the parameters in the optimizer.\n",
    "        optimizer.step()\n",
    "        \n",
    "        count += fre.shape[0]\n",
    "        avg_loss += loss.item() * fre.shape[0]\n",
    "        \n",
    "        if it%display_step == 0:\n",
    "            h_loss.append(avg_loss/count)\n",
    "            h_loss_it.append(T_it)\n",
    "            b = 'Epoch: '+str(epoch+1)+'; training loss value: '+str(avg_loss/count)+'; Best model=> Validation loss: '+str(best_model_loss) + '; Validation acc: '+str(best_model_acc)\n",
    "            print(b, end=\"\\r\")\n",
    "            it = 0\n",
    "            count = 0\n",
    "            avg_loss = 0\n",
    "            \n",
    "    loss_va = 0\n",
    "    acc_va = 0\n",
    "    count_va = 0\n",
    "    for eng, fre in va_ds:\n",
    "        \n",
    "        eng = eng.to(device)\n",
    "        fre = fre.to(device)\n",
    "        pred = rnn(eng, fre)\n",
    "        loss = loss_function(pred, fre, criterion, len(fr_t2id)).item() \n",
    "        acc = acc_function(pred, fre)\n",
    "        count_va += fre.shape[0]\n",
    "        loss_va += loss * fre.shape[0]\n",
    "        acc_va += acc * fre.shape[0]\n",
    "        \n",
    "        \n",
    "    \n",
    "    loss_va = loss_va/count_va\n",
    "    acc_va = acc_va/count_va\n",
    "    val_loss.append(loss_va)\n",
    "    val_loss_it.append(T_it)\n",
    "    val_acc.append(acc_va)\n",
    "    \n",
    "    if best_model_loss==False or loss_va < best_model_loss :\n",
    "        print('Best Model => loss validation: ', loss_va, '; acc validation: ', acc_va)\n",
    "        best_model_loss = loss_va\n",
    "        best_model_acc = acc_va\n",
    "        model_dir = 'models/'\n",
    "        model_name = 'En2Fr_tr_best_model_enc_dec1.pkl'\n",
    "        torch.save(rnn.state_dict(), model_dir+model_name)"
   ]
  },
  {
   "cell_type": "markdown",
   "metadata": {},
   "source": [
    "**VALIDATION RESUTS**\n",
    "\n",
    "The evolution of the loss function and acc each epoch is showing that the selected hyperparameters made the model stable. "
   ]
  },
  {
   "cell_type": "code",
   "execution_count": 24,
   "metadata": {
    "scrolled": true
   },
   "outputs": [
    {
     "data": {
      "text/plain": [
       "[<matplotlib.lines.Line2D at 0x2001735abe0>]"
      ]
     },
     "execution_count": 24,
     "metadata": {},
     "output_type": "execute_result"
    },
    {
     "data": {
      "image/png": "[encoded data removed]",
      "text/plain": [
       "<Figure size 432x288 with 1 Axes>"
      ]
     },
     "metadata": {
      "needs_background": "light"
     },
     "output_type": "display_data"
    }
   ],
   "source": [
    "plt.plot(h_loss_it, h_loss, 'r')"
   ]
  },
  {
   "cell_type": "markdown",
   "metadata": {},
   "source": [
    "With the data obtained during training, the first observation is that the computational cost is higher than that of a bidirectional RNN such as the model trained on the other Notewook, which was to be expected comparing the two architectures.  On the other hand, this model has a lower loss value and the acc obtained (0.986) using the Validation data is very satisfactory. "
   ]
  },
  {
   "cell_type": "code",
   "execution_count": 25,
   "metadata": {
    "scrolled": true
   },
   "outputs": [
    {
     "data": {
      "text/plain": [
       "<matplotlib.legend.Legend at 0x200172cf430>"
      ]
     },
     "execution_count": 25,
     "metadata": {},
     "output_type": "execute_result"
    },
    {
     "data": {
      "image/png": "[encoded data removed]",
      "text/plain": [
       "<Figure size 432x288 with 1 Axes>"
      ]
     },
     "metadata": {
      "needs_background": "light"
     },
     "output_type": "display_data"
    }
   ],
   "source": [
    "plt.plot(val_loss_it, val_loss, 'b', label='Loss Value')\n",
    "plt.plot(val_loss_it, val_acc, 'r', label = 'ACC')\n",
    "plt.legend()"
   ]
  },
  {
   "cell_type": "markdown",
   "metadata": {},
   "source": [
    "In the next cell I show som expected values and predictions"
   ]
  },
  {
   "cell_type": "code",
   "execution_count": 26,
   "metadata": {},
   "outputs": [
    {
     "name": "stdout",
     "output_type": "stream",
     "text": [
      "tensor([ 3,  4,  5,  6, 21, 15, 16, 11, 39, 13,  5, 20, 87, 89,  9, 10, 17,  2,\n",
      "         0,  0,  0,  0,  0,  0], device='cuda:0')\n",
      "tensor([[ 3,  4,  5,  6, 21, 15, 16, 11, 39, 13,  5, 20, 87, 89,  9, 10, 17,  2]],\n",
      "       device='cuda:0')\n",
      "tensor([79,  5, 52, 84, 15, 85, 11, 12, 13,  5,  6, 69, 89,  9, 10, 17,  2,  0,\n",
      "         0,  0,  0,  0,  0,  0], device='cuda:0')\n",
      "tensor([[79,  5, 52, 84, 15, 85, 11, 12, 13,  5,  6, 69, 89,  9, 10, 17,  2]],\n",
      "       device='cuda:0')\n",
      "tensor([114, 225, 132, 294,  15,  83,  15,  27,  17,   2,   0,   0,   0,   0,\n",
      "          0,   0,   0,   0,   0,   0,   0,   0,   0,   0], device='cuda:0')\n",
      "tensor([[114, 225, 132, 294,  15,  83,  15,  27,  17,   2]], device='cuda:0')\n",
      "tensor([ 41,  92,   5,  52, 188,  15,  27,  11,  12,  13,   5,   6,  84,  15,\n",
      "         32,  17,   2,   0,   0,   0,   0,   0,   0,   0], device='cuda:0')\n",
      "tensor([[ 41,  92,   5,  52, 188,  15,  27,  11,  12,  13,   5,   6,  84,  15,\n",
      "          32,  17,   2]], device='cuda:0')\n"
     ]
    }
   ],
   "source": [
    "for a, b in zip(fre, pred):\n",
    "    print(a[1:])\n",
    "    print(b.max(2)[1])"
   ]
  },
  {
   "cell_type": "markdown",
   "metadata": {},
   "source": [
    "### 3.4 Testing the model\n",
    "After training the model it is necessary to test it with the test data set. With this step we can determine if our model has an over-fit, and know what the final accuracy is."
   ]
  },
  {
   "cell_type": "code",
   "execution_count": 27,
   "metadata": {},
   "outputs": [
    {
     "data": {
      "text/plain": [
       "Encoder_Decoder(\n",
       "  (emb1): Embedding(232, 200)\n",
       "  (emb2): Embedding(360, 250)\n",
       "  (LSTM1): LSTM(200, 200, batch_first=True, bidirectional=True)\n",
       "  (LSTM2): LSTM(250, 250, num_layers=2, batch_first=True)\n",
       "  (Dense1): Linear(in_features=800, out_features=250, bias=True)\n",
       "  (Dense2): Linear(in_features=250, out_features=1795, bias=True)\n",
       "  (Dense3): Linear(in_features=1795, out_features=359, bias=True)\n",
       "  (ELU1): ELU(alpha=1.0)\n",
       "  (ELU2): ELU(alpha=1.0)\n",
       "  (ELU3): ELU(alpha=1.0)\n",
       "  (relu1): ReLU()\n",
       "  (dropout1): Dropout(p=0.3, inplace=False)\n",
       ")"
      ]
     },
     "execution_count": 27,
     "metadata": {},
     "output_type": "execute_result"
    }
   ],
   "source": [
    "rnn =Encoder_Decoder(device='cpu')\n",
    "path = 'models/En2Fr_tr_best_model_enc_dec1.pkl'\n",
    "rnn.load_state_dict(torch.load(path))\n",
    "rnn.eval()"
   ]
  },
  {
   "cell_type": "code",
   "execution_count": 28,
   "metadata": {},
   "outputs": [
    {
     "name": "stdout",
     "output_type": "stream",
     "text": [
      "The loss value with the Test Dataset is:  0.027682218322199015\n",
      "The acc with the Test Dataset is:  0.9918897263981316\n"
     ]
    }
   ],
   "source": [
    "loss_va = 0\n",
    "acc_va = 0\n",
    "count_va = 0\n",
    "for eng, fre in te_ds:\n",
    "\n",
    "    eng = eng.to('cpu')\n",
    "    fre = fre.to('cpu')\n",
    "    pred = rnn(eng,fre)\n",
    "    \n",
    "    loss = loss_function(pred, fre, criterion, len(fr_t2id)).item() \n",
    "    acc = acc_function(pred, fre)\n",
    "    #count_va += pred.shape[0]\n",
    "    count_va += len(pred)\n",
    "    loss_va += loss * len(pred)\n",
    "    acc_va += acc * len(pred)\n",
    "\n",
    "\n",
    "loss_va = loss_va/count_va\n",
    "acc_va = acc_va/count_va\n",
    "print('The loss value with the Test Dataset is: ', loss_va)\n",
    "print('The acc with the Test Dataset is: ', acc_va)"
   ]
  },
  {
   "cell_type": "markdown",
   "metadata": {},
   "source": [
    "## Result\n",
    "The loss value and score obtained with the test data set are better than expected after the validation result. The score is 0.991, which means that our model correctly predicts 99% of the words.\n",
    "\n",
    "After this great result it is important to remember the weaknesses of this model. To train it we have used an optimized dataset with a reduced vocabulary, which means that it is not ready for real life. Moreover, it is computationally very expensive and not optimal for situations where we need a large number of translations in a short time.\n",
    "\n",
    "The positive reading of this test is that it shows how powerful this architecture can be."
   ]
  }
 ],
 "metadata": {
  "kernelspec": {
   "display_name": "Python 3",
   "language": "python",
   "name": "python3"
  },
  "language_info": {
   "codemirror_mode": {
    "name": "ipython",
    "version": 3
   },
   "file_extension": ".py",
   "mimetype": "text/x-python",
   "name": "python",
   "nbconvert_exporter": "python",
   "pygments_lexer": "ipython3",
   "version": "3.8.5"
  }
 },
 "nbformat": 4,
 "nbformat_minor": 4
}
